{
  "nbformat": 4,
  "nbformat_minor": 0,
  "metadata": {
    "colab": {
      "name": "LSTM_sonnet.ipynb",
      "provenance": [],
      "collapsed_sections": []
    },
    "kernelspec": {
      "name": "python3",
      "display_name": "Python 3"
    },
    "language_info": {
      "name": "python"
    },
    "accelerator": "GPU"
  },
  "cells": [
    {
      "cell_type": "markdown",
      "metadata": {
        "id": "jQNWPfijiPzT"
      },
      "source": [
        ""
      ]
    },
    {
      "cell_type": "code",
      "metadata": {
        "colab": {
          "base_uri": "https://localhost:8080/"
        },
        "id": "1EjLp5h3upZ7",
        "outputId": "70335fed-04c9-4702-d4fd-6e7ab50793c8"
      },
      "source": [
        "from google.colab import drive\n",
        "drive.mount('/content/drive')"
      ],
      "execution_count": null,
      "outputs": [
        {
          "output_type": "stream",
          "text": [
            "Mounted at /content/drive\n"
          ],
          "name": "stdout"
        }
      ]
    },
    {
      "cell_type": "code",
      "metadata": {
        "colab": {
          "base_uri": "https://localhost:8080/"
        },
        "id": "67wq8t1ZiU2t",
        "outputId": "34f7df87-2fdb-4459-ee08-f6ef49527998"
      },
      "source": [
        "import numpy as np\n",
        "from keras.models import Sequential\n",
        "from keras.layers import LSTM, Dense, Activation, Bidirectional\n",
        "from keras.callbacks import ModelCheckpoint\n",
        "from keras.utils.vis_utils import plot_model\n",
        "\n",
        "\n",
        "with open(\"/content/drive/MyDrive/NLP_Project/sonnets.txt\") as corpus_file:\n",
        "    corpus = corpus_file.read()\n",
        "print(\"Loaded a corpus of {0} characters\".format(len(corpus)))"
      ],
      "execution_count": null,
      "outputs": [
        {
          "output_type": "stream",
          "text": [
            "Loaded a corpus of 94652 characters\n"
          ],
          "name": "stdout"
        }
      ]
    },
    {
      "cell_type": "code",
      "metadata": {
        "colab": {
          "base_uri": "https://localhost:8080/"
        },
        "id": "Qcw6rtdWiVVm",
        "outputId": "26005188-74e7-44d8-9619-7c93495c3196"
      },
      "source": [
        "# Get a unique identifier for each char in the corpus, then make some dicts to ease encoding and decoding\n",
        "chars = sorted(list(set(corpus)))\n",
        "num_chars = len(chars)\n",
        "encoding = {c: i for i, c in enumerate(chars)}\n",
        "decoding = {i: c for i, c in enumerate(chars)}\n",
        "print(\"Our corpus contains {0} unique characters.\".format(num_chars))"
      ],
      "execution_count": null,
      "outputs": [
        {
          "output_type": "stream",
          "text": [
            "Our corpus contains 62 unique characters.\n"
          ],
          "name": "stdout"
        }
      ]
    },
    {
      "cell_type": "markdown",
      "metadata": {
        "id": "-stVdJPYj1YM"
      },
      "source": [
        "#Splitting our corpus into X and y. \n",
        "##50 characters are added to X, 51st character is added to y.\n"
      ]
    },
    {
      "cell_type": "code",
      "metadata": {
        "colab": {
          "base_uri": "https://localhost:8080/"
        },
        "id": "usExyg4Ei4M4",
        "outputId": "4f10e53e-1b59-430f-8791-d94bb33bfeae"
      },
      "source": [
        "# it slices, it dices, it makes julienned datasets!\n",
        "# chop up our data into X and y, slice into roughly (num_chars / skip) overlapping 'sentences'\n",
        "# of length sentence_length, and encode the chars\n",
        "sentence_length = 50\n",
        "skip = 1\n",
        "X_data = []\n",
        "y_data = []\n",
        "for i in range (0, len(corpus) - sentence_length, skip):\n",
        "    sentence = corpus[i:i + sentence_length]\n",
        "    next_char = corpus[i + sentence_length]\n",
        "    X_data.append([encoding[char] for char in sentence])\n",
        "    y_data.append(encoding[next_char])\n",
        "\n",
        "num_sentences = len(X_data)\n",
        "print(\"Sliced our corpus into {0} sentences of length {1}\".format(num_sentences, sentence_length))"
      ],
      "execution_count": null,
      "outputs": [
        {
          "output_type": "stream",
          "text": [
            "Sliced our corpus into 94602 sentences of length 50\n"
          ],
          "name": "stdout"
        }
      ]
    },
    {
      "cell_type": "markdown",
      "metadata": {
        "id": "IgHeBE10kiBP"
      },
      "source": [
        "#Vectorizing the data"
      ]
    },
    {
      "cell_type": "code",
      "metadata": {
        "colab": {
          "base_uri": "https://localhost:8080/"
        },
        "id": "E8tLOmtbjuEY",
        "outputId": "c91bb2d9-62e8-4807-8f73-ee2cf43bd0dd"
      },
      "source": [
        "# Vectorize our data and labels. We want everything in one-hot\n",
        "# because smart data encoding cultivates phronesis and virtue.\n",
        "print(\"Vectorizing X and y...\")\n",
        "X = np.zeros((num_sentences, sentence_length, num_chars), dtype=np.bool)\n",
        "y = np.zeros((num_sentences, num_chars), dtype=np.bool)\n",
        "for i, sentence in enumerate(X_data):\n",
        "    for t, encoded_char in enumerate(sentence):\n",
        "        X[i, t, encoded_char] = 1\n",
        "    y[i, y_data[i]] = 1\n",
        "\n",
        "# Double check our vectorized data before we sink hours into fitting a model\n",
        "print(\"Sanity check y. Dimension: {0} # Sentences: {1} Characters in corpus: {2}\".format(y.shape, num_sentences, len(chars)))\n",
        "print(\"Sanity check X. Dimension: {0} Sentence length: {1}\".format(X.shape, sentence_length))"
      ],
      "execution_count": null,
      "outputs": [
        {
          "output_type": "stream",
          "text": [
            "Vectorizing X and y...\n",
            "Sanity check y. Dimension: (94602, 62) # Sentences: 94602 Characters in corpus: 62\n",
            "Sanity check X. Dimension: (94602, 50, 62) Sentence length: 50\n"
          ],
          "name": "stdout"
        }
      ]
    },
    {
      "cell_type": "markdown",
      "metadata": {
        "id": "SxCV5anplrIH"
      },
      "source": [
        "#Model definition\n",
        "We have used recurrent dropout function which prevents overfitting"
      ]
    },
    {
      "cell_type": "code",
      "metadata": {
        "colab": {
          "base_uri": "https://localhost:8080/",
          "height": 570
        },
        "id": "WlYcaxiDlxJx",
        "outputId": "6b10a5a9-41ad-47e6-fd7f-f357240ba882"
      },
      "source": [
        "# Define our model\n",
        "model = Sequential()\n",
        "model.add(LSTM(256, return_sequences=True, input_shape=(sentence_length, num_chars), recurrent_dropout=0.15))\n",
        "model.add(LSTM(256))\n",
        "model.add(Dense(num_chars))\n",
        "model.add(Activation('softmax'))\n",
        "model.compile(loss='categorical_crossentropy', optimizer='adam')\n",
        "plot_model(model, to_file='model_plot.png', show_shapes=True, show_layer_names=True)"
      ],
      "execution_count": null,
      "outputs": [
        {
          "output_type": "stream",
          "text": [
            "WARNING:tensorflow:Layer lstm_13 will not use cuDNN kernel since it doesn't meet the cuDNN kernel criteria. It will use generic GPU kernel as fallback when running on GPU\n"
          ],
          "name": "stdout"
        },
        {
          "output_type": "execute_result",
          "data": {
            "image/png": "[encoded data removed]",
            "text/plain": [
              "<IPython.core.display.Image object>"
            ]
          },
          "metadata": {
            "tags": []
          },
          "execution_count": 30
        }
      ]
    },
    {
      "cell_type": "markdown",
      "metadata": {
        "id": "zTFfbOaep_Ua"
      },
      "source": [
        "#Fitting the model"
      ]
    },
    {
      "cell_type": "code",
      "metadata": {
        "colab": {
          "base_uri": "https://localhost:8080/"
        },
        "id": "pXLvKojnpCV2",
        "outputId": "dca473f3-f256-4444-c11d-1130cd75723a"
      },
      "source": [
        "\n",
        "# Dump our model architecture to a file so we can load it elsewhere\n",
        "architecture = model.to_yaml()\n",
        "with open('model.yaml', 'a') as model_file:\n",
        "    model_file.write(architecture)\n",
        "\n",
        "# Set up checkpoints\n",
        "file_path=\"weights-{epoch:02d}-{loss:.3f}.hdf5\"\n",
        "checkpoint = ModelCheckpoint(file_path, monitor=\"loss\", verbose=1, save_best_only=True, mode=\"min\")\n",
        "callbacks = [checkpoint]\n",
        "\n",
        "# Action time! [Insert guitar solo here]\n",
        "model.fit(X, y, epochs=30, batch_size=128, callbacks=callbacks)"
      ],
      "execution_count": null,
      "outputs": [
        {
          "output_type": "stream",
          "text": [
            "Epoch 1/30\n",
            "740/740 [==============================] - 175s 232ms/step - loss: 2.9665\n",
            "\n",
            "Epoch 00001: loss improved from inf to 2.62260, saving model to weights-01-2.623.hdf5\n",
            "Epoch 2/30\n",
            "740/740 [==============================] - 173s 233ms/step - loss: 2.0782\n",
            "\n",
            "Epoch 00002: loss improved from 2.62260 to 2.01183, saving model to weights-02-2.012.hdf5\n",
            "Epoch 3/30\n",
            "740/740 [==============================] - 170s 230ms/step - loss: 1.8655\n",
            "\n",
            "Epoch 00003: loss improved from 2.01183 to 1.83440, saving model to weights-03-1.834.hdf5\n",
            "Epoch 4/30\n",
            "740/740 [==============================] - 169s 229ms/step - loss: 1.7431\n",
            "\n",
            "Epoch 00004: loss improved from 1.83440 to 1.72741, saving model to weights-04-1.727.hdf5\n",
            "Epoch 5/30\n",
            "740/740 [==============================] - 167s 226ms/step - loss: 1.6631\n",
            "\n",
            "Epoch 00005: loss improved from 1.72741 to 1.64758, saving model to weights-05-1.648.hdf5\n",
            "Epoch 6/30\n",
            "740/740 [==============================] - 168s 228ms/step - loss: 1.5860\n",
            "\n",
            "Epoch 00006: loss improved from 1.64758 to 1.58160, saving model to weights-06-1.582.hdf5\n",
            "Epoch 7/30\n",
            "740/740 [==============================] - 170s 230ms/step - loss: 1.5294\n",
            "\n",
            "Epoch 00007: loss improved from 1.58160 to 1.52680, saving model to weights-07-1.527.hdf5\n",
            "Epoch 8/30\n",
            "740/740 [==============================] - 171s 231ms/step - loss: 1.4798\n",
            "\n",
            "Epoch 00008: loss improved from 1.52680 to 1.47649, saving model to weights-08-1.476.hdf5\n",
            "Epoch 9/30\n",
            "740/740 [==============================] - 171s 231ms/step - loss: 1.4230\n",
            "\n",
            "Epoch 00009: loss improved from 1.47649 to 1.43001, saving model to weights-09-1.430.hdf5\n",
            "Epoch 10/30\n",
            "740/740 [==============================] - 171s 232ms/step - loss: 1.3755\n",
            "\n",
            "Epoch 00010: loss improved from 1.43001 to 1.38504, saving model to weights-10-1.385.hdf5\n",
            "Epoch 11/30\n",
            "740/740 [==============================] - 171s 232ms/step - loss: 1.3357\n",
            "\n",
            "Epoch 00011: loss improved from 1.38504 to 1.34372, saving model to weights-11-1.344.hdf5\n",
            "Epoch 12/30\n",
            "740/740 [==============================] - 169s 228ms/step - loss: 1.2901\n",
            "\n",
            "Epoch 00012: loss improved from 1.34372 to 1.30499, saving model to weights-12-1.305.hdf5\n",
            "Epoch 13/30\n",
            "740/740 [==============================] - 168s 227ms/step - loss: 1.2534\n",
            "\n",
            "Epoch 00013: loss improved from 1.30499 to 1.26630, saving model to weights-13-1.266.hdf5\n",
            "Epoch 14/30\n",
            "740/740 [==============================] - 168s 227ms/step - loss: 1.2228\n",
            "\n",
            "Epoch 00014: loss improved from 1.26630 to 1.23076, saving model to weights-14-1.231.hdf5\n",
            "Epoch 15/30\n",
            "740/740 [==============================] - 167s 225ms/step - loss: 1.1904\n",
            "\n",
            "Epoch 00015: loss improved from 1.23076 to 1.19919, saving model to weights-15-1.199.hdf5\n",
            "Epoch 16/30\n",
            "740/740 [==============================] - 167s 226ms/step - loss: 1.1534\n",
            "\n",
            "Epoch 00016: loss improved from 1.19919 to 1.16211, saving model to weights-16-1.162.hdf5\n",
            "Epoch 17/30\n",
            "740/740 [==============================] - 167s 225ms/step - loss: 1.1133\n",
            "\n",
            "Epoch 00017: loss improved from 1.16211 to 1.12996, saving model to weights-17-1.130.hdf5\n",
            "Epoch 18/30\n",
            "740/740 [==============================] - 168s 227ms/step - loss: 1.0851\n",
            "\n",
            "Epoch 00018: loss improved from 1.12996 to 1.09973, saving model to weights-18-1.100.hdf5\n",
            "Epoch 19/30\n",
            "740/740 [==============================] - 167s 226ms/step - loss: 1.0515\n",
            "\n",
            "Epoch 00019: loss improved from 1.09973 to 1.06627, saving model to weights-19-1.066.hdf5\n",
            "Epoch 20/30\n",
            "740/740 [==============================] - 168s 227ms/step - loss: 1.0120\n",
            "\n",
            "Epoch 00020: loss improved from 1.06627 to 1.03428, saving model to weights-20-1.034.hdf5\n",
            "Epoch 21/30\n",
            "740/740 [==============================] - 171s 231ms/step - loss: 0.9894\n",
            "\n",
            "Epoch 00021: loss improved from 1.03428 to 1.00896, saving model to weights-21-1.009.hdf5\n",
            "Epoch 22/30\n",
            "740/740 [==============================] - 170s 229ms/step - loss: 0.9541\n",
            "\n",
            "Epoch 00022: loss improved from 1.00896 to 0.98108, saving model to weights-22-0.981.hdf5\n",
            "Epoch 23/30\n",
            "740/740 [==============================] - 172s 232ms/step - loss: 0.9328\n",
            "\n",
            "Epoch 00023: loss improved from 0.98108 to 0.94941, saving model to weights-23-0.949.hdf5\n",
            "Epoch 24/30\n",
            "740/740 [==============================] - 170s 230ms/step - loss: 0.9059\n",
            "\n",
            "Epoch 00024: loss improved from 0.94941 to 0.92593, saving model to weights-24-0.926.hdf5\n",
            "Epoch 25/30\n",
            "740/740 [==============================] - 171s 231ms/step - loss: 0.8747\n",
            "\n",
            "Epoch 00025: loss improved from 0.92593 to 0.89827, saving model to weights-25-0.898.hdf5\n",
            "Epoch 26/30\n",
            "740/740 [==============================] - 170s 229ms/step - loss: 0.8508\n",
            "\n",
            "Epoch 00026: loss improved from 0.89827 to 0.87220, saving model to weights-26-0.872.hdf5\n",
            "Epoch 27/30\n",
            "740/740 [==============================] - 170s 230ms/step - loss: 0.8304\n",
            "\n",
            "Epoch 00027: loss improved from 0.87220 to 0.84902, saving model to weights-27-0.849.hdf5\n",
            "Epoch 28/30\n",
            "740/740 [==============================] - 171s 231ms/step - loss: 0.8035\n",
            "\n",
            "Epoch 00028: loss improved from 0.84902 to 0.81968, saving model to weights-28-0.820.hdf5\n",
            "Epoch 29/30\n",
            "740/740 [==============================] - 173s 233ms/step - loss: 0.7667\n",
            "\n",
            "Epoch 00029: loss improved from 0.81968 to 0.79553, saving model to weights-29-0.796.hdf5\n",
            "Epoch 30/30\n",
            "740/740 [==============================] - 172s 232ms/step - loss: 0.7514\n",
            "\n",
            "Epoch 00030: loss improved from 0.79553 to 0.77229, saving model to weights-30-0.772.hdf5\n"
          ],
          "name": "stdout"
        },
        {
          "output_type": "execute_result",
          "data": {
            "text/plain": [
              "<tensorflow.python.keras.callbacks.History at 0x7fc1bbac5910>"
            ]
          },
          "metadata": {
            "tags": []
          },
          "execution_count": 31
        }
      ]
    },
    {
      "cell_type": "code",
      "metadata": {
        "colab": {
          "base_uri": "https://localhost:8080/"
        },
        "id": "tc_WFH7hqDED",
        "outputId": "8da3a297-424a-44d2-c1d5-a9b815ad9a7d"
      },
      "source": [
        "model.summary()"
      ],
      "execution_count": null,
      "outputs": [
        {
          "output_type": "stream",
          "text": [
            "Model: \"sequential_7\"\n",
            "_________________________________________________________________\n",
            "Layer (type)                 Output Shape              Param #   \n",
            "=================================================================\n",
            "lstm_13 (LSTM)               (None, 50, 256)           326656    \n",
            "_________________________________________________________________\n",
            "lstm_14 (LSTM)               (None, 256)               525312    \n",
            "_________________________________________________________________\n",
            "dense_4 (Dense)              (None, 62)                15934     \n",
            "_________________________________________________________________\n",
            "activation_4 (Activation)    (None, 62)                0         \n",
            "=================================================================\n",
            "Total params: 867,902\n",
            "Trainable params: 867,902\n",
            "Non-trainable params: 0\n",
            "_________________________________________________________________\n"
          ],
          "name": "stdout"
        }
      ]
    },
    {
      "cell_type": "markdown",
      "metadata": {
        "id": "yzcUPL0xtC1D"
      },
      "source": [
        "# Testing our model"
      ]
    },
    {
      "cell_type": "code",
      "metadata": {
        "colab": {
          "base_uri": "https://localhost:8080/"
        },
        "id": "t02nuYCXrInf",
        "outputId": "6aee6423-0c20-4649-dfb4-3bd71cee8659"
      },
      "source": [
        "import numpy as np\n",
        "from keras.models import model_from_yaml\n",
        "from random import randint\n",
        "\n",
        "\n",
        "class GenerativeNetwork:\n",
        "    def __init__(self, corpus_path, model_path, weights_path):\n",
        "        with open(corpus_path) as corpus_file:\n",
        "            self.corpus = corpus_file.read()\n",
        "\n",
        "        # Get a unique identifier for each char in the corpus,\n",
        "        # then make some dicts to ease encoding and decoding\n",
        "        self.chars = sorted(list(set(self.corpus)))\n",
        "        self.encoding = {c: i for i, c in enumerate(self.chars)}\n",
        "        self.decoding = {i: c for i, c in enumerate(self.chars)}\n",
        "\n",
        "        # Some fields we'll need later\n",
        "        self.num_chars = len(self.chars)\n",
        "        self.sentence_length = 50\n",
        "        self.corpus_length = len(self.corpus)\n",
        "\n",
        "        # Build our network from loaded architecture and weights\n",
        "        with open(model_path) as model_file:\n",
        "            architecture = model_file.read()\n",
        "\n",
        "        self.model = model_from_yaml(architecture)\n",
        "        self.model.load_weights(weights_path)\n",
        "        self.model.compile(loss='categorical_crossentropy', optimizer='adam')\n",
        "\n",
        "    def generate(self, seed_pattern):\n",
        "        X = np.zeros((1, self.sentence_length, self.num_chars), dtype=np.bool)\n",
        "        for i, character in enumerate(seed_pattern):\n",
        "            X[0, i, self.encoding[character]] = 1\n",
        "\n",
        "        generated_text = \"\"\n",
        "        for i in range(500):\n",
        "            prediction = np.argmax(self.model.predict(X, verbose=0))\n",
        "\n",
        "            generated_text += self.decoding[prediction]\n",
        "\n",
        "            activations = np.zeros((1, 1, self.num_chars), dtype=np.bool)\n",
        "            activations[0, 0, prediction] = 1\n",
        "            X = np.concatenate((X[:, 1:, :], activations), axis=1)\n",
        "\n",
        "        return generated_text\n",
        "\n",
        "    def make_seed(self, seed_phrase=\"\"):\n",
        "            if seed_phrase:\n",
        "                phrase_length = len(seed_phrase)\n",
        "                pattern = \"\"\n",
        "                for i in range(0, self.sentence_length):\n",
        "                    pattern += seed_phrase[i % phrase_length]\n",
        "            else:\n",
        "                seed = randint(0, self.corpus_length - self.sentence_length)\n",
        "                pattern = self.corpus[seed:seed + self.sentence_length]\n",
        "\n",
        "            return pattern\n",
        "\n",
        "corpus_path='/content/drive/MyDrive/NLP_Project/sonnets.txt'\n",
        "model_path='/content/drive/MyDrive/NLP_Project/model.yaml'\n",
        "weights_path='/content/drive/MyDrive/NLP_Project/weights-30-0.772.hdf5'\n",
        "\n",
        "lstm_model=GenerativeNetwork(corpus_path,model_path,weights_path)\n",
        "\n",
        "pat=lstm_model.make_seed(\"Since that my life on thy revolt doth lie.\")\n",
        "new_poem=lstm_model.generate(pat)\n",
        "\n",
        "print(new_poem)\n"
      ],
      "execution_count": null,
      "outputs": [
        {
          "output_type": "stream",
          "text": [
            "WARNING:tensorflow:Layer lstm_11 will not use cuDNN kernel since it doesn't meet the cuDNN kernel criteria. It will use generic GPU kernel as fallback when running on GPU\n",
            "ought,\n",
            "That thou art for memorian throughts or mend.\n",
            "Therefore is this, and this to me behold,\n",
            "That thou dost live your self in you doth grow,\n",
            "  And therefore have I slept in thee I say,\n",
            "'Truth needs the world will be the world's face survey,\n",
            "If thou this senstard to the summer art,\n",
            "Within the lovely graves where thou dost steel\n",
            "But then my love in thy advantage me,\n",
            "The old of more that live in other place.\n",
            "\n",
            "O! how thy offers, seeing this, I see doth wrongs.\n",
            "  Then that your love with thee all b\n"
          ],
          "name": "stdout"
        }
      ]
    },
    {
      "cell_type": "code",
      "metadata": {
        "id": "BcC4cLzStR9D"
      },
      "source": [
        ""
      ],
      "execution_count": null,
      "outputs": []
    }
  ]
}